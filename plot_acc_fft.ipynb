{
 "cells": [
  {
   "cell_type": "markdown",
   "metadata": {},
   "source": [
    "# 1. 加载必要的模块"
   ]
  },
  {
   "cell_type": "code",
   "execution_count": 1,
   "metadata": {},
   "outputs": [],
   "source": [
    "import matplotlib.pyplot as plt\n",
    "from pandas.core.frame import DataFrame\n",
    "import pandas as pd  \n",
    "import numpy as np\n",
    "import seaborn as sns\n",
    "from scipy.fftpack import fft,ifft"
   ]
  },
  {
   "cell_type": "markdown",
   "metadata": {},
   "source": [
    "# 2. 确保csv数据格式如图所示\n",
    "\n",
    "![csv文件格式](https://raw.githubusercontent.com/techyoung-edu/sleepmonitor/master/acc_csv_format.png)"
   ]
  },
  {
   "cell_type": "markdown",
   "metadata": {},
   "source": [
    "# 3. 加载csv数据"
   ]
  },
  {
   "cell_type": "code",
   "execution_count": 2,
   "metadata": {
    "scrolled": true
   },
   "outputs": [
    {
     "data": {
      "text/html": [
       "<div>\n",
       "<style scoped>\n",
       "    .dataframe tbody tr th:only-of-type {\n",
       "        vertical-align: middle;\n",
       "    }\n",
       "\n",
       "    .dataframe tbody tr th {\n",
       "        vertical-align: top;\n",
       "    }\n",
       "\n",
       "    .dataframe thead th {\n",
       "        text-align: right;\n",
       "    }\n",
       "</style>\n",
       "<table border=\"1\" class=\"dataframe\">\n",
       "  <thead>\n",
       "    <tr style=\"text-align: right;\">\n",
       "      <th></th>\n",
       "      <th>time</th>\n",
       "      <th>acc</th>\n",
       "    </tr>\n",
       "  </thead>\n",
       "  <tbody>\n",
       "    <tr>\n",
       "      <th>0</th>\n",
       "      <td>19:41:35.193</td>\n",
       "      <td>0.961693</td>\n",
       "    </tr>\n",
       "    <tr>\n",
       "      <th>1</th>\n",
       "      <td>19:41:35.226</td>\n",
       "      <td>0.963778</td>\n",
       "    </tr>\n",
       "    <tr>\n",
       "      <th>2</th>\n",
       "      <td>19:41:35.226</td>\n",
       "      <td>0.966693</td>\n",
       "    </tr>\n",
       "    <tr>\n",
       "      <th>3</th>\n",
       "      <td>19:41:35.263</td>\n",
       "      <td>0.963984</td>\n",
       "    </tr>\n",
       "    <tr>\n",
       "      <th>4</th>\n",
       "      <td>19:41:35.300</td>\n",
       "      <td>0.962294</td>\n",
       "    </tr>\n",
       "  </tbody>\n",
       "</table>\n",
       "</div>"
      ],
      "text/plain": [
       "           time       acc\n",
       "0  19:41:35.193  0.961693\n",
       "1  19:41:35.226  0.963778\n",
       "2  19:41:35.226  0.966693\n",
       "3  19:41:35.263  0.963984\n",
       "4  19:41:35.300  0.962294"
      ]
     },
     "execution_count": 2,
     "metadata": {},
     "output_type": "execute_result"
    }
   ],
   "source": [
    "dataset = pd.read_csv(\"39Hz_Accelerometer.csv\",names = [\"time\",\"acc\"])\n",
    "dataset.head()"
   ]
  },
  {
   "cell_type": "markdown",
   "metadata": {
    "scrolled": true
   },
   "source": []
  },
  {
   "cell_type": "markdown",
   "metadata": {},
   "source": [
    "# 4. 处理acc数据\n",
    "+ 使用numpy array来对acc_list进行处理\n",
    "+ 把加速度减去1.0,这是传感器静态时默认的加速度。\n",
    "+ 把加速度乘1000,从而使的加速度变成以mg为单位。\n",
    "+ 求出期望和标准差"
   ]
  },
  {
   "cell_type": "code",
   "execution_count": 3,
   "metadata": {
    "scrolled": true
   },
   "outputs": [
    {
     "name": "stdout",
     "output_type": "stream",
     "text": [
      "the acc dist mean:-35.95mg and std:2.13mg\n"
     ]
    }
   ],
   "source": [
    "acc_list = np.array(dataset[\"acc\"])\n",
    "acc_list = (acc_list - 1.0)*1000\n",
    "acc_mean = np.mean(acc_list)\n",
    "acc_std  = np.std(acc_list)\n",
    "acc_mean_str = \"{:.2f}\".format(acc_mean)\n",
    "acc_std_str = \"{:.2f}\".format(acc_std)\n",
    "print(\"the acc dist mean:%.2fmg and std:%.2fmg\" %(acc_mean,acc_std))"
   ]
  },
  {
   "cell_type": "markdown",
   "metadata": {},
   "source": [
    "# 5. 绘制综合加速度FFT图\n",
    "+ 选取前1024/2048/4096/8192个数据,方便做FFT.\n"
   ]
  },
  {
   "cell_type": "code",
   "execution_count": 5,
   "metadata": {},
   "outputs": [
    {
     "data": {
      "text/plain": [
       "<matplotlib.axes._subplots.AxesSubplot at 0x1f82bffe0f0>"
      ]
     },
     "execution_count": 5,
     "metadata": {},
     "output_type": "execute_result"
    },
    {
     "data": {
      "image/png": "[encoded data removed]",
      "text/plain": [
       "<Figure size 432x288 with 1 Axes>"
      ]
     },
     "metadata": {
      "needs_background": "light"
     },
     "output_type": "display_data"
    }
   ],
   "source": [
    "acc_list = acc_list[:1024]\n",
    "acc_fft = fft(acc_list)                     #快速傅里叶变换\n",
    "fft_size = (acc_list.size/2)\n",
    "fft_abs = abs(acc_fft)                      # 取模\n",
    "fft_norm= fft_abs/fft_size                  #归一化处理\n",
    "fft_half= fft_norm[range(int(fft_size))]    #由于对称性，只取一半区间            \n",
    "fqx = np.arange(len(acc_list))              # 频率\n",
    "fqx_half = fqx[range(int(fft_size))]        #频率取一半区间\n",
    "fft_half\n",
    "fqx_half\n",
    "fft_half[0]=0\n",
    "sns.barplot(x=fqx_half,y=fft_half)"
   ]
  },
  {
   "cell_type": "code",
   "execution_count": null,
   "metadata": {},
   "outputs": [],
   "source": []
  }
 ],
 "metadata": {
  "kernelspec": {
   "display_name": "Python 3",
   "language": "python",
   "name": "python3"
  },
  "language_info": {
   "codemirror_mode": {
    "name": "ipython",
    "version": 3
   },
   "file_extension": ".py",
   "mimetype": "text/x-python",
   "name": "python",
   "nbconvert_exporter": "python",
   "pygments_lexer": "ipython3",
   "version": "3.7.3"
  }
 },
 "nbformat": 4,
 "nbformat_minor": 2
}
