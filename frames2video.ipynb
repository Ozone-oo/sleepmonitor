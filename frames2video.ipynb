{
 "cells": [
  {
   "cell_type": "markdown",
   "metadata": {},
   "source": [
    "# 把dir_frames里的所有*.png转换成avi视频"
   ]
  },
  {
   "cell_type": "code",
   "execution_count": 14,
   "metadata": {},
   "outputs": [
    {
     "name": "stderr",
     "output_type": "stream",
     "text": [
      "100%|████████████████████████████████████████████████████████████████████████████████| 900/900 [00:25<00:00, 35.33it/s]\n"
     ]
    }
   ],
   "source": [
    "import cv2\n",
    "from tqdm import tqdm\n",
    "img_root = 'dir_frames'             #这里写你的文件夹路径，比如：/home/youname/data/img/,注意最后一个文件夹要有斜杠\n",
    "fps = 24                            #保存视频的FPS，可以适当调整\n",
    "frame_size=(1600,900)\n",
    "img_path = gb.glob(\"dir_frames/*.png\") #获取的路径列表是从低到高排列的\n",
    "fourcc = cv2.VideoWriter_fourcc(*'XVID')#可以用(*'DVIX')或(*'X264'),如果都不行先装ffmepg: sudo apt-get install ffmepg\n",
    "videoWriter = cv2.VideoWriter('video.avi',fourcc,fps,frame_size)#最后一个是保存图片的尺寸\n",
    "for path in tqdm(img_path):\n",
    "    frame = cv2.imread(path)\n",
    "    videoWriter.write(frame)\n",
    "videoWriter.release()"
   ]
  },
  {
   "cell_type": "markdown",
   "metadata": {},
   "source": [
    "# 把dir_frames里的所有*.png转换成mp4视频-fixme运行不成功"
   ]
  },
  {
   "cell_type": "code",
   "execution_count": 15,
   "metadata": {},
   "outputs": [
    {
     "name": "stderr",
     "output_type": "stream",
     "text": [
      "100%|████████████████████████████████████████████████████████████████████████████████| 900/900 [00:23<00:00, 37.55it/s]\n"
     ]
    }
   ],
   "source": [
    "# encoding: UTF-8\n",
    "import glob as gb\n",
    "import cv2\n",
    "fps = 24\n",
    "frame_size=(1600,900)\n",
    "img_path = gb.glob(\"dir_frames/*.png\") \n",
    "videoWriter = cv2.VideoWriter('video.mp4', cv2.VideoWriter_fourcc(*'X264'), fps, frame_size)\n",
    "for path in tqdm(img_path):\n",
    "    img  = cv2.imread(path)\n",
    "    videoWriter.write(img)"
   ]
  },
  {
   "cell_type": "code",
   "execution_count": null,
   "metadata": {},
   "outputs": [],
   "source": []
  },
  {
   "cell_type": "code",
   "execution_count": null,
   "metadata": {},
   "outputs": [],
   "source": []
  },
  {
   "cell_type": "code",
   "execution_count": null,
   "metadata": {},
   "outputs": [],
   "source": []
  }
 ],
 "metadata": {
  "kernelspec": {
   "display_name": "Python 3",
   "language": "python",
   "name": "python3"
  },
  "language_info": {
   "codemirror_mode": {
    "name": "ipython",
    "version": 3
   },
   "file_extension": ".py",
   "mimetype": "text/x-python",
   "name": "python",
   "nbconvert_exporter": "python",
   "pygments_lexer": "ipython3",
   "version": "3.7.3"
  }
 },
 "nbformat": 4,
 "nbformat_minor": 2
}
