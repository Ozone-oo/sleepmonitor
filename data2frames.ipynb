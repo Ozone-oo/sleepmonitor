{
 "cells": [
  {
   "cell_type": "code",
   "execution_count": 1,
   "metadata": {},
   "outputs": [],
   "source": [
    "import numpy as np  \n",
    "import pandas as pd\n",
    "import math\n",
    "import matplotlib.pyplot as plt\n",
    "import matplotlib.axes as axes\n",
    "import seaborn as sns\n",
    "from pandas.core.frame import DataFrame\n",
    "\n",
    "from scipy.fftpack import fft,ifft\n",
    "from tqdm import tqdm\n",
    "\n",
    "from matplotlib.figure import Figure\n",
    "from matplotlib.backends.backend_agg import FigureCanvasAgg as FigureCanvas\n",
    "\n",
    "from matplotlib.ticker import Locator\n",
    "from matplotlib.ticker import MaxNLocator"
   ]
  },
  {
   "cell_type": "code",
   "execution_count": 2,
   "metadata": {},
   "outputs": [
    {
     "data": {
      "text/html": [
       "<div>\n",
       "<style scoped>\n",
       "    .dataframe tbody tr th:only-of-type {\n",
       "        vertical-align: middle;\n",
       "    }\n",
       "\n",
       "    .dataframe tbody tr th {\n",
       "        vertical-align: top;\n",
       "    }\n",
       "\n",
       "    .dataframe thead th {\n",
       "        text-align: right;\n",
       "    }\n",
       "</style>\n",
       "<table border=\"1\" class=\"dataframe\">\n",
       "  <thead>\n",
       "    <tr style=\"text-align: right;\">\n",
       "      <th></th>\n",
       "      <th>time</th>\n",
       "      <th>us</th>\n",
       "      <th>acc</th>\n",
       "      <th>ws</th>\n",
       "      <th>label</th>\n",
       "    </tr>\n",
       "  </thead>\n",
       "  <tbody>\n",
       "    <tr>\n",
       "      <th>0</th>\n",
       "      <td>17:18:04.965</td>\n",
       "      <td>1027168</td>\n",
       "      <td>-0.048445</td>\n",
       "      <td>NaN</td>\n",
       "      <td>NaN</td>\n",
       "    </tr>\n",
       "    <tr>\n",
       "      <th>1</th>\n",
       "      <td>17:18:04.999</td>\n",
       "      <td>1058904</td>\n",
       "      <td>-0.059468</td>\n",
       "      <td>NaN</td>\n",
       "      <td>NaN</td>\n",
       "    </tr>\n",
       "    <tr>\n",
       "      <th>2</th>\n",
       "      <td>17:18:05.036</td>\n",
       "      <td>1090640</td>\n",
       "      <td>-0.038652</td>\n",
       "      <td>NaN</td>\n",
       "      <td>NaN</td>\n",
       "    </tr>\n",
       "    <tr>\n",
       "      <th>3</th>\n",
       "      <td>17:18:05.071</td>\n",
       "      <td>1122372</td>\n",
       "      <td>-0.049056</td>\n",
       "      <td>NaN</td>\n",
       "      <td>NaN</td>\n",
       "    </tr>\n",
       "    <tr>\n",
       "      <th>4</th>\n",
       "      <td>17:18:05.071</td>\n",
       "      <td>1154108</td>\n",
       "      <td>-0.051094</td>\n",
       "      <td>NaN</td>\n",
       "      <td>NaN</td>\n",
       "    </tr>\n",
       "  </tbody>\n",
       "</table>\n",
       "</div>"
      ],
      "text/plain": [
       "           time       us       acc  ws  label\n",
       "0  17:18:04.965  1027168 -0.048445 NaN    NaN\n",
       "1  17:18:04.999  1058904 -0.059468 NaN    NaN\n",
       "2  17:18:05.036  1090640 -0.038652 NaN    NaN\n",
       "3  17:18:05.071  1122372 -0.049056 NaN    NaN\n",
       "4  17:18:05.071  1154108 -0.051094 NaN    NaN"
      ]
     },
     "execution_count": 2,
     "metadata": {},
     "output_type": "execute_result"
    }
   ],
   "source": [
    "csv_filename = \"Breath.csv\"\n",
    "df = pd.read_csv(csv_filename, names=[\"time\", \"us\", \"acc\",\"ws\",\"label\"])\n",
    "df.head(5)"
   ]
  },
  {
   "cell_type": "code",
   "execution_count": 3,
   "metadata": {},
   "outputs": [
    {
     "name": "stdout",
     "output_type": "stream",
     "text": [
      "the acc dist mean:-54.18mg and std:6.41mg\n"
     ]
    }
   ],
   "source": [
    "acc_list = np.array(df[\"acc\"])\n",
    "acc_time = np.array(df[\"time\"])\n",
    "acc_us = np.array(df[\"us\"])\n",
    "acc_ms = [int(ms) for ms in acc_us/1000]\n",
    "acc_list = acc_list*1000\n",
    "acc_mean = np.mean(acc_list)\n",
    "acc_std  = np.std(acc_list)\n",
    "acc_mean_str = \"{:.2f}\".format(acc_mean)\n",
    "acc_std_str = \"{:.2f}\".format(acc_std)\n",
    "print(\"the acc dist mean:%.2fmg and std:%.2fmg\" %(acc_mean,acc_std))"
   ]
  },
  {
   "cell_type": "markdown",
   "metadata": {},
   "source": [
    "# 加速度传感器矫正"
   ]
  },
  {
   "cell_type": "code",
   "execution_count": 4,
   "metadata": {},
   "outputs": [
    {
     "name": "stderr",
     "output_type": "stream",
     "text": [
      "100%|███████████████████████████████████████████████████████████████████████████| 9504/9504 [00:00<00:00, 25754.24it/s]\n"
     ]
    },
    {
     "data": {
      "image/png": "[encoded data removed]",
      "text/plain": [
       "<Figure size 800x800 with 1 Axes>"
      ]
     },
     "metadata": {
      "needs_background": "light"
     },
     "output_type": "display_data"
    }
   ],
   "source": [
    "# 加速度传感器校准用\n",
    "CONST_STATIC_WINDOW = 64\n",
    "static_mean_list = []\n",
    "static_std_list  = []\n",
    "#遍历加速度，寻找传感器安静的时间段，记录它的avg和std\n",
    "for k in tqdm(range(CONST_STATIC_WINDOW,acc_list.size,1)):\n",
    "    acc_list_slice = acc_list[k-CONST_STATIC_WINDOW:k]\n",
    "    acc_mean = np.mean(acc_list_slice)\n",
    "    acc_std  = np.std(acc_list_slice)\n",
    "    if acc_std < 20:\n",
    "        static_std_list.append(acc_std)\n",
    "        static_mean_list.append(acc_mean)\n",
    "pass\n",
    "static_mean = np.mean(static_mean_list)\n",
    "static_std = np.mean(static_std_list)\n",
    "static_mean_str = \"{:.2f}\".format(static_mean)\n",
    "static_std_str = \"{:.2f}\".format(static_std)\n",
    "# print(static_std_list)\n",
    "bins=np.arange(np.min(static_std_list),np.max(static_std_list),0.1)\n",
    "plt.figure(figsize=(8, 8), dpi=100)\n",
    "ax = plt.subplot()\n",
    "ax.set_xlim(np.min(static_std_list), np.max(static_std_list))\n",
    "sns.kdeplot(static_std_list,static_mean_list,shade=True)\n",
    "plt.title(\"MPU9520 acc distribution still. mean=\"+static_mean_str+\"mg std=\"+static_std_str+\"mg\")\n",
    "plt.savefig(\"static.png\")"
   ]
  },
  {
   "cell_type": "code",
   "execution_count": 5,
   "metadata": {},
   "outputs": [],
   "source": [
    "acc_list = acc_list - static_mean # 将加速度列表矫正到0"
   ]
  },
  {
   "cell_type": "markdown",
   "metadata": {},
   "source": [
    "# 以秒为单位计算std和avg，找出最大的以判断时域波形刻度范围"
   ]
  },
  {
   "cell_type": "code",
   "execution_count": 6,
   "metadata": {},
   "outputs": [
    {
     "name": "stderr",
     "output_type": "stream",
     "text": [
      "100%|█████████████████████████████████████████████████████████████████████████████| 298/298 [00:00<00:00, 13543.65it/s]\n"
     ]
    },
    {
     "data": {
      "image/png": "[encoded data removed]",
      "text/plain": [
       "<Figure size 800x800 with 1 Axes>"
      ]
     },
     "metadata": {
      "needs_background": "light"
     },
     "output_type": "display_data"
    }
   ],
   "source": [
    "SECOND_WINDOW = 32# sample rate 32\n",
    "second_mean_list = []\n",
    "second_std_list  = []\n",
    "acc_mean_max = float()\n",
    "acc_std_max = float()\n",
    "#遍历加速度，寻找传感器安静的时间段，记录它的avg和std\n",
    "for k in tqdm(range(SECOND_WINDOW,acc_list.size,SECOND_WINDOW)):\n",
    "    acc_list_slice = acc_list[k-SECOND_WINDOW:k-1]\n",
    "    acc_mean_max = acc_mean_max if(acc_mean_max>np.mean(acc_list_slice)) else np.mean(acc_list_slice)\n",
    "    acc_std_max  = acc_std_max if(acc_std_max>np.std(acc_list_slice)) else np.std(acc_list_slice)\n",
    "    second_mean_list.append(np.mean(acc_list_slice))\n",
    "    second_std_list.append(np.std(acc_list_slice))\n",
    "pass\n",
    "\n",
    "acc_mean_str = \"{:.2f}\".format(acc_mean_max)\n",
    "acc_std_str = \"{:.2f}\".format(acc_std_max)\n",
    "# print(static_std_list)\n",
    "bins=np.arange(np.min(second_std_list),np.max(second_std_list),0.1)\n",
    "plt.figure(figsize=(8, 8), dpi=100)\n",
    "ax = plt.subplot()\n",
    "ax.set_xlim(np.min(second_std_list), np.max(second_std_list))\n",
    "sns.kdeplot(second_std_list,second_mean_list,shade=True)\n",
    "plt.title(\"MPU9520 acc distribution still. max_mean=\"+acc_mean_str+\"mg max_std=\"+acc_std_str+\"mg\")\n",
    "plt.savefig(\"max_mean__max_std.png\")"
   ]
  },
  {
   "cell_type": "markdown",
   "metadata": {},
   "source": [
    "# 以1024个点为单位遍历一次，找FFT的直流分量大小"
   ]
  },
  {
   "cell_type": "code",
   "execution_count": 7,
   "metadata": {},
   "outputs": [
    {
     "data": {
      "text/plain": [
       "0.05424766658126199"
      ]
     },
     "execution_count": 7,
     "metadata": {},
     "output_type": "execute_result"
    }
   ],
   "source": [
    "FFT = list()\n",
    "for i in range(0,len(acc_list)):\n",
    "#     if FFT_0<np.mean(acc_list[i:i+32]):\n",
    "    FFT.append(np.mean(acc_list[i:i+1024]))\n",
    "#     print(np.mean(acc_list[i:i+32]),i)\n",
    "np.mean(FFT)"
   ]
  },
  {
   "cell_type": "markdown",
   "metadata": {},
   "source": [
    "# 开始画图"
   ]
  },
  {
   "cell_type": "code",
   "execution_count": 8,
   "metadata": {},
   "outputs": [],
   "source": [
    "fig= Figure(figsize=[25.6,14.4],dpi=100,facecolor=\"black\",edgecolor=\"#BEBEBE\")\n",
    "canvas = FigureCanvas(fig)\n",
    "ax_chart_32s = fig.add_axes([100/2560,970/1440,1350/2560,420/1440])\n",
    "ax_chart_1s = fig.add_axes([1507/2560,970/1440,372/2560,420/1440])\n",
    "\n",
    "ax_violin = fig.add_axes([1507/2560,510/1440,372/2560,412/1440])\n",
    "ax_violins = fig.add_axes([100/2560,510/1440,1350/2560,412/1440])\n",
    "\n",
    "ax_FFT = fig.add_axes([100/2560,50/1440,2360/2560,406/1440])\n",
    "\n",
    "ax_video = fig.add_axes([1929/2560,496/1440,531/2560,944/1440])\n",
    "canvas.print_figure(\"123.png\")\n",
    "fig.savefig(\"sample.png\",facecolor=fig.get_facecolor(),edgecolor=fig.get_edgecolor())"
   ]
  },
  {
   "cell_type": "markdown",
   "metadata": {},
   "source": [
    "# 使用seaborn画violin"
   ]
  },
  {
   "cell_type": "code",
   "execution_count": null,
   "metadata": {},
   "outputs": [],
   "source": [
    "#plt.savefig(\"sample.png\")\n",
    "CONST_ACC_MAX = math.pow(2, int(math.log(acc_mean_max + 4 * acc_std_max, 2)) + 1)\n",
    "# define the limits automatically\n",
    "#设置时域图和violin的y坐标的上下限\n",
    "CONST_ACC_MIN = -CONST_ACC_MAX\n",
    "CONST_CHART_WINDOW = 1024\n",
    "CONST_FFT_WINDOW = 1024\n",
    "CONST_VIOLIN_WINDOW = 32\n",
    "CONST_VIOLINS_WINDOW = 1024\n",
    "CONST_VIOLINS_DIV = 32\n",
    "CONST_SAMP_RATE = 32  # 采样率\n",
    "CONST_COLOR_STD_LMT = 128\n",
    "CONST_BLUE_RGB = [0, 0, 255]\n",
    "CONST_WHITE_RGB = [255, 255, 255]\n",
    "CONST_FFT_MIN = 0\n",
    "CONST_FFT_MAX = 2\n",
    "\n",
    "def whiten(ax, title):\n",
    "    spine = ['bottom', 'top', 'right', 'left']\n",
    "    for tickline in ax.xaxis.get_ticklines():\n",
    "        tickline.set_color('white')\n",
    "    for ticklabel in ax.xaxis.get_ticklabels():\n",
    "        ticklabel.set_color('white')\n",
    "    for tickline in ax.yaxis.get_ticklines():\n",
    "        tickline.set_color('white')\n",
    "    for ticklabel in ax.yaxis.get_ticklabels():\n",
    "        ticklabel.set_color('white')\n",
    "    for orien in spine:\n",
    "        ax.spines[orien].set_color('black')\n",
    "    ax.set_facecolor(\"black\")  # grey\n",
    "    title.set_color(\"white\")\n",
    "    title.set_fontsize('large')\n",
    "\n",
    "\n",
    "def whiten_violin(result):\n",
    "    for key in result:\n",
    "        if key is not 'bodies':\n",
    "            result[key].set_color('')\n",
    "\n",
    "for k in tqdm(range( acc_list.size)):  # start form 1024, shift 8 every time\n",
    "    #list.index()\n",
    "    ax_violin.set_ylim(CONST_ACC_MIN, CONST_ACC_MAX)\n",
    "    ax_violins.set_ylim(CONST_ACC_MIN, CONST_ACC_MAX)\n",
    "    \n",
    "\n",
    "    # 绘制时域32s图\n",
    "    slice_start = k - CONST_FFT_WINDOW\n",
    "    slice_end = k\n",
    "    if slice_start < 0:\n",
    "        slice_start = 0\n",
    "    acc_slice = acc_list[slice_start:slice_end]\n",
    "    acc_slice = np.lib.pad(acc_slice, (CONST_CHART_WINDOW - acc_slice.size, 0), 'constant', constant_values=(0, 0))\n",
    "\n",
    "    ax_chart_32s.plot(acc_slice, 'w')  # '--w'\n",
    "    ax_chart_32s.set_ylim(CONST_ACC_MIN, CONST_ACC_MAX)\n",
    "    title = ax_chart_32s.set_title(\"Realtime chart,Time: \" + str(acc_time[k]) + \"  Reading: \" + \"{:.2f}\".format(acc_list[k]) + \"mg\")\n",
    "    whiten(ax_chart_32s, title)\n",
    "\n",
    "    #绘制时域1s\n",
    "    acc_slice_1s = acc_slice[-32:]\n",
    "    ax_chart_1s.plot(acc_slice_1s,'w')\n",
    "    ax_chart_1s.set_ylim(CONST_ACC_MIN, CONST_ACC_MAX)\n",
    "    title = ax_chart_1s.set_title(\"Last one second\")\n",
    "    whiten(ax_chart_1s, title)\n",
    "    \n",
    "    # 绘制FFT图\n",
    "    #########################################\n",
    "    fft_abs = abs(fft(acc_slice))\n",
    "    fft_norm = fft_abs / int(CONST_FFT_WINDOW)\n",
    "    fft_half = fft_norm[:int(CONST_FFT_WINDOW / 2)]\n",
    "\n",
    "    ax_FFT.bar(x=np.linspace(0, CONST_SAMP_RATE / 2, 513)[:-1],  # the first 128 points covers frequency from 0-4hz\n",
    "                   height=fft_half,width=0.9,bottom=0,align=\"center\",color=\"white\")\n",
    "\n",
    "    ax_FFT.xaxis.set_major_locator(MaxNLocator(nbins=20, prune='lower'))\n",
    "    title = ax_FFT.set_title(\"FFT chart:0 - 16Hz\")\n",
    "    whiten(ax_FFT, title)\n",
    "    ax_FFT.set_ylim(CONST_FFT_MIN, CONST_FFT_MAX)\n",
    "    ax_FFT.set_xlim(0, 16)  # 0-4hz\n",
    "\n",
    "    # 绘制violin图\n",
    "    ##########################################\n",
    "    slice_start = k - CONST_VIOLIN_WINDOW\n",
    "    slice_end = k\n",
    "    if slice_start < 0:\n",
    "        slice_start = 0\n",
    "    acc_slice = acc_list[slice_start:slice_end]\n",
    "    acc_slice = np.lib.pad(acc_slice, (CONST_VIOLIN_WINDOW - acc_slice.size, 0), 'constant', constant_values=(0, 0))\n",
    "    acc_slice_dataset = pd.DataFrame(acc_slice)\n",
    "    violin_mean = acc_slice_dataset[0].mean()\n",
    "    violin_std = acc_slice_dataset[0].std()\n",
    "    violin_mean_str = \"{:.5f}\".format(violin_mean)\n",
    "    violin_std_str = \"{:.5f}\".format(violin_std)\n",
    "\n",
    "    face_color = [(CONST_WHITE_RGB[i] - (CONST_WHITE_RGB[i] - CONST_BLUE_RGB[i]) * abs(violin_std / CONST_COLOR_STD_LMT)) / 255 for i in range(3)]\n",
    "    for color in face_color:\n",
    "        if color<0:\n",
    "            color=0\n",
    "\n",
    "    ###########seaborn violin#############\n",
    "    violinplot_ax = sns.violinplot(x=acc_slice, color=face_color, ax=ax_violin, linewidth=0,orient=\"v\")\n",
    "    ax.grid(False)\n",
    "    \n",
    "    title = ax_violin.set_title(\"Realtime violin. Mean: \" + violin_mean_str + \"  Std: \" + violin_std_str)\n",
    "    ax_violin.yaxis.set_major_locator(MaxNLocator(nbins=16, prune='lower'))\n",
    "    whiten(ax_violin, title)\n",
    "\n",
    "    # 绘制violins图\n",
    "    ################################\n",
    "    slice_start = k - CONST_VIOLINS_WINDOW\n",
    "    slice_end = k\n",
    "    if slice_start < 0:\n",
    "        slice_start = 0\n",
    "    acc_slice = acc_list[slice_start:slice_end]\n",
    "    acc_slice = np.lib.pad(acc_slice, (CONST_VIOLINS_WINDOW - acc_slice.size, 0), 'constant', constant_values=(0, 0))\n",
    "\n",
    "    violins_dataset = pd.DataFrame(\n",
    "        [acc_slice[int(t - CONST_VIOLINS_DIV):int(t)] for t in list(np.linspace(0, 1024, CONST_VIOLINS_DIV + 1)[1:])])\n",
    "    color_list = []\n",
    "    for row in range(CONST_VIOLINS_DIV):\n",
    "        violins_color = abs(violins_dataset.loc[row, :].std())\n",
    "        violins_color_relative = violins_color / CONST_COLOR_STD_LMT\n",
    "        if violins_color_relative>1:\n",
    "            violins_color_relative=1\n",
    "        color_list.append(\n",
    "            [(CONST_WHITE_RGB[i] - (CONST_WHITE_RGB[i] - CONST_BLUE_RGB[i]) * violins_color_relative) / 255 for i in range(3)])\n",
    "        # rgba in float 0-1 form\n",
    "    violins_result = ax_violins.violinplot(dataset=violins_dataset)\n",
    "    ax_violins.yaxis.set_major_locator(MaxNLocator(nbins=(CONST_ACC_MAX / 4) + 1, prune='lower'))\n",
    "    for pc in range(len(violins_result['bodies'])):\n",
    "        violins_result['bodies'][pc].set_facecolor(color_list[pc])\n",
    "        violins_result['bodies'][pc].set_edgecolor(\"white\")\n",
    "        \n",
    "    title = ax_violins.set_title(\"History violins\")\n",
    "    ax_violins.yaxis.set_major_locator(MaxNLocator(nbins=16, prune='lower'))\n",
    "    whiten(ax_violins, title)\n",
    "    whiten_violin(violins_result)\n",
    "    # 调整 video框\n",
    "    ax_video.set_facecolor(\"black\")\n",
    "    spine = ['bottom', 'top', 'right', 'left']\n",
    "    for orien in spine:\n",
    "        ax_video.spines[orien].set_color('white')\n",
    "    ax_video.axis(option=False)\n",
    "    # save figs\n",
    "    fig.savefig(\"dir_frames_breath/\" + str(10000000000 + acc_ms[k]) + '.png', facecolor=fig.get_facecolor(), edgecolor='none')\n",
    "    ax_chart_32s.cla()\n",
    "    ax_chart_1s.cla()\n",
    "    ax_FFT.cla()\n",
    "    ax_violin.cla()\n",
    "    ax_violins.cla()"
   ]
  },
  {
   "cell_type": "code",
   "execution_count": null,
   "metadata": {},
   "outputs": [],
   "source": [
    " "
   ]
  },
  {
   "cell_type": "code",
   "execution_count": null,
   "metadata": {},
   "outputs": [],
   "source": []
  }
 ],
 "metadata": {
  "kernelspec": {
   "display_name": "Python 3",
   "language": "python",
   "name": "python3"
  },
  "language_info": {
   "codemirror_mode": {
    "name": "ipython",
    "version": 3
   },
   "file_extension": ".py",
   "mimetype": "text/x-python",
   "name": "python",
   "nbconvert_exporter": "python",
   "pygments_lexer": "ipython3",
   "version": "3.7.3"
  }
 },
 "nbformat": 4,
 "nbformat_minor": 2
}
