{
 "cells": [
  {
   "cell_type": "markdown",
   "metadata": {},
   "source": [
    "# 1. 导入包"
   ]
  },
  {
   "cell_type": "code",
   "execution_count": 1,
   "metadata": {},
   "outputs": [],
   "source": [
    "import numpy as np  \n",
    "import pandas as pd\n",
    "import math\n",
    "import matplotlib.pyplot as plt\n",
    "import matplotlib.axes as axes\n",
    "import seaborn as sns\n",
    "import gc\n",
    "\n",
    "from pandas.core.frame import DataFrame\n",
    "from scipy.fftpack import fft,ifft\n",
    "from tqdm import tqdm\n",
    "from matplotlib.figure import Figure\n",
    "from matplotlib.backends.backend_agg import FigureCanvasAgg as FigureCanvas\n",
    "from matplotlib.ticker import Locator\n",
    "from matplotlib.ticker import MaxNLocator"
   ]
  },
  {
   "cell_type": "markdown",
   "metadata": {},
   "source": [
    "# 2. 加载数据文件"
   ]
  },
  {
   "cell_type": "code",
   "execution_count": 2,
   "metadata": {
    "scrolled": true
   },
   "outputs": [
    {
     "data": {
      "text/html": [
       "<div>\n",
       "<style scoped>\n",
       "    .dataframe tbody tr th:only-of-type {\n",
       "        vertical-align: middle;\n",
       "    }\n",
       "\n",
       "    .dataframe tbody tr th {\n",
       "        vertical-align: top;\n",
       "    }\n",
       "\n",
       "    .dataframe thead th {\n",
       "        text-align: right;\n",
       "    }\n",
       "</style>\n",
       "<table border=\"1\" class=\"dataframe\">\n",
       "  <thead>\n",
       "    <tr style=\"text-align: right;\">\n",
       "      <th></th>\n",
       "      <th>time</th>\n",
       "      <th>us</th>\n",
       "      <th>acc</th>\n",
       "      <th>avg_1</th>\n",
       "      <th>std_1</th>\n",
       "      <th>max_1</th>\n",
       "      <th>min_1</th>\n",
       "      <th>med_1</th>\n",
       "      <th>iqr_1</th>\n",
       "      <th>mcr_1</th>\n",
       "      <th>...</th>\n",
       "      <th>krt_8</th>\n",
       "      <th>fskw_8</th>\n",
       "      <th>fkrt_8</th>\n",
       "      <th>fmax_8</th>\n",
       "      <th>fspp_8</th>\n",
       "      <th>fetp_8</th>\n",
       "      <th>fctd_8</th>\n",
       "      <th>pca0</th>\n",
       "      <th>pca1</th>\n",
       "      <th>pca2</th>\n",
       "    </tr>\n",
       "  </thead>\n",
       "  <tbody>\n",
       "    <tr>\n",
       "      <td>0</td>\n",
       "      <td>15:52:08.395</td>\n",
       "      <td>1012464</td>\n",
       "      <td>35.98</td>\n",
       "      <td>35.98</td>\n",
       "      <td>0.000000</td>\n",
       "      <td>35.98</td>\n",
       "      <td>35.98</td>\n",
       "      <td>35.980</td>\n",
       "      <td>0.00</td>\n",
       "      <td>0.000000</td>\n",
       "      <td>...</td>\n",
       "      <td>0.000000</td>\n",
       "      <td>0.0</td>\n",
       "      <td>0.0</td>\n",
       "      <td>0.0</td>\n",
       "      <td>0.0</td>\n",
       "      <td>0.0</td>\n",
       "      <td>0.0</td>\n",
       "      <td>-532.339041</td>\n",
       "      <td>-214.743826</td>\n",
       "      <td>92.691824</td>\n",
       "    </tr>\n",
       "    <tr>\n",
       "      <td>1</td>\n",
       "      <td>15:52:08.433</td>\n",
       "      <td>1044468</td>\n",
       "      <td>33.42</td>\n",
       "      <td>34.70</td>\n",
       "      <td>1.280000</td>\n",
       "      <td>35.98</td>\n",
       "      <td>33.42</td>\n",
       "      <td>34.700</td>\n",
       "      <td>2.56</td>\n",
       "      <td>0.500000</td>\n",
       "      <td>...</td>\n",
       "      <td>0.000000</td>\n",
       "      <td>0.0</td>\n",
       "      <td>0.0</td>\n",
       "      <td>0.0</td>\n",
       "      <td>0.0</td>\n",
       "      <td>0.0</td>\n",
       "      <td>0.0</td>\n",
       "      <td>-692.895763</td>\n",
       "      <td>-276.070715</td>\n",
       "      <td>117.397385</td>\n",
       "    </tr>\n",
       "    <tr>\n",
       "      <td>2</td>\n",
       "      <td>15:52:08.433</td>\n",
       "      <td>1076472</td>\n",
       "      <td>38.21</td>\n",
       "      <td>35.87</td>\n",
       "      <td>1.957056</td>\n",
       "      <td>38.21</td>\n",
       "      <td>33.42</td>\n",
       "      <td>35.980</td>\n",
       "      <td>4.79</td>\n",
       "      <td>0.666667</td>\n",
       "      <td>...</td>\n",
       "      <td>0.000000</td>\n",
       "      <td>0.0</td>\n",
       "      <td>0.0</td>\n",
       "      <td>0.0</td>\n",
       "      <td>0.0</td>\n",
       "      <td>0.0</td>\n",
       "      <td>0.0</td>\n",
       "      <td>-538.888225</td>\n",
       "      <td>-216.572312</td>\n",
       "      <td>93.119021</td>\n",
       "    </tr>\n",
       "    <tr>\n",
       "      <td>3</td>\n",
       "      <td>15:52:08.471</td>\n",
       "      <td>1108476</td>\n",
       "      <td>37.03</td>\n",
       "      <td>36.16</td>\n",
       "      <td>1.767725</td>\n",
       "      <td>38.21</td>\n",
       "      <td>33.42</td>\n",
       "      <td>36.505</td>\n",
       "      <td>1.05</td>\n",
       "      <td>0.250000</td>\n",
       "      <td>...</td>\n",
       "      <td>0.824385</td>\n",
       "      <td>0.0</td>\n",
       "      <td>0.0</td>\n",
       "      <td>0.0</td>\n",
       "      <td>0.0</td>\n",
       "      <td>0.0</td>\n",
       "      <td>0.0</td>\n",
       "      <td>-502.400996</td>\n",
       "      <td>-202.636911</td>\n",
       "      <td>87.510401</td>\n",
       "    </tr>\n",
       "    <tr>\n",
       "      <td>4</td>\n",
       "      <td>15:52:08.508</td>\n",
       "      <td>1140476</td>\n",
       "      <td>38.31</td>\n",
       "      <td>36.59</td>\n",
       "      <td>1.799856</td>\n",
       "      <td>38.31</td>\n",
       "      <td>33.42</td>\n",
       "      <td>37.030</td>\n",
       "      <td>2.23</td>\n",
       "      <td>0.200000</td>\n",
       "      <td>...</td>\n",
       "      <td>0.903630</td>\n",
       "      <td>0.0</td>\n",
       "      <td>0.0</td>\n",
       "      <td>0.0</td>\n",
       "      <td>0.0</td>\n",
       "      <td>0.0</td>\n",
       "      <td>0.0</td>\n",
       "      <td>-445.502007</td>\n",
       "      <td>-180.754675</td>\n",
       "      <td>78.616354</td>\n",
       "    </tr>\n",
       "  </tbody>\n",
       "</table>\n",
       "<p>5 rows × 78 columns</p>\n",
       "</div>"
      ],
      "text/plain": [
       "           time       us    acc  avg_1     std_1  max_1  min_1   med_1  iqr_1  \\\n",
       "0  15:52:08.395  1012464  35.98  35.98  0.000000  35.98  35.98  35.980   0.00   \n",
       "1  15:52:08.433  1044468  33.42  34.70  1.280000  35.98  33.42  34.700   2.56   \n",
       "2  15:52:08.433  1076472  38.21  35.87  1.957056  38.21  33.42  35.980   4.79   \n",
       "3  15:52:08.471  1108476  37.03  36.16  1.767725  38.21  33.42  36.505   1.05   \n",
       "4  15:52:08.508  1140476  38.31  36.59  1.799856  38.31  33.42  37.030   2.23   \n",
       "\n",
       "      mcr_1  ...     krt_8  fskw_8  fkrt_8  fmax_8  fspp_8  fetp_8  fctd_8  \\\n",
       "0  0.000000  ...  0.000000     0.0     0.0     0.0     0.0     0.0     0.0   \n",
       "1  0.500000  ...  0.000000     0.0     0.0     0.0     0.0     0.0     0.0   \n",
       "2  0.666667  ...  0.000000     0.0     0.0     0.0     0.0     0.0     0.0   \n",
       "3  0.250000  ...  0.824385     0.0     0.0     0.0     0.0     0.0     0.0   \n",
       "4  0.200000  ...  0.903630     0.0     0.0     0.0     0.0     0.0     0.0   \n",
       "\n",
       "         pca0        pca1        pca2  \n",
       "0 -532.339041 -214.743826   92.691824  \n",
       "1 -692.895763 -276.070715  117.397385  \n",
       "2 -538.888225 -216.572312   93.119021  \n",
       "3 -502.400996 -202.636911   87.510401  \n",
       "4 -445.502007 -180.754675   78.616354  \n",
       "\n",
       "[5 rows x 78 columns]"
      ]
     },
     "execution_count": 2,
     "metadata": {},
     "output_type": "execute_result"
    }
   ],
   "source": [
    "dataset_name = \"Printer\"\n",
    "csv_filename = \"Printer.csv\"\n",
    "csv_featured_filename = \"printer_featured_pca.csv\"\n",
    "df = pd.read_csv(csv_featured_filename\n",
    "                 #, names=[\"time\", \"us\", \"acc\",\"ws\",\"label\"]\n",
    "                )\n",
    "df.head(5)"
   ]
  },
  {
   "cell_type": "markdown",
   "metadata": {},
   "source": [
    "# 3. 预处理数据"
   ]
  },
  {
   "cell_type": "code",
   "execution_count": 3,
   "metadata": {},
   "outputs": [
    {
     "name": "stdout",
     "output_type": "stream",
     "text": [
      "the acc dist mean:37.96mg and std:11.93mg\n"
     ]
    }
   ],
   "source": [
    "acc_list = np.array(df[\"acc\"])\n",
    "acc_time = np.array(df[\"time\"])\n",
    "acc_us = np.array(df[\"us\"])\n",
    "acc_avg = np.array(df[\"avg_1\"])\n",
    "acc_std_list = np.array(df[\"std_1\"])\n",
    "acc_pca0_list = np.array(df[\"pca0\"])\n",
    "acc_pca1_list = np.array(df[\"pca1\"])\n",
    "\n",
    "acc_ms = [int(ms) for ms in acc_us/1000]\n",
    "acc_mean = np.mean(acc_list)\n",
    "acc_std  = np.std(acc_list)\n",
    "acc_mean_str = \"{:.2f}\".format(acc_mean)\n",
    "acc_std_str = \"{:.2f}\".format(acc_std)\n",
    "print(\"the acc dist mean:%.2fmg and std:%.2fmg\" %(acc_mean,acc_std))"
   ]
  },
  {
   "cell_type": "markdown",
   "metadata": {},
   "source": [
    "# 4. 加速度传感器矫正"
   ]
  },
  {
   "cell_type": "code",
   "execution_count": 4,
   "metadata": {},
   "outputs": [
    {
     "name": "stderr",
     "output_type": "stream",
     "text": [
      "100%|██████████| 7164/7164 [00:00<00:00, 39763.64it/s]\n"
     ]
    }
   ],
   "source": [
    "# 加速度传感器校准用\n",
    "CONST_STATIC_WINDOW = 64\n",
    "static_mean_list = []\n",
    "static_std_list  = []\n",
    "#遍历加速度，寻找传感器安静的时间段，记录它的avg和std\n",
    "for k in tqdm(range(CONST_STATIC_WINDOW,acc_list.size,1)):\n",
    "    acc_list_slice = acc_list[k-CONST_STATIC_WINDOW:k]\n",
    "    acc_mean = np.mean(acc_list_slice)\n",
    "    acc_std  = np.std(acc_list_slice)\n",
    "    if acc_std < 5:\n",
    "        static_std_list.append(acc_std)\n",
    "        static_mean_list.append(acc_mean)"
   ]
  },
  {
   "cell_type": "markdown",
   "metadata": {},
   "source": [
    "# 5. 绘制加速度传感器在静止时候的均值-标准差分布"
   ]
  },
  {
   "cell_type": "code",
   "execution_count": 5,
   "metadata": {},
   "outputs": [
    {
     "data": {
      "image/png": "[encoded data removed]",
      "text/plain": [
       "<Figure size 800x800 with 1 Axes>"
      ]
     },
     "metadata": {
      "needs_background": "light"
     },
     "output_type": "display_data"
    }
   ],
   "source": [
    "static_mean = np.mean(static_mean_list)\n",
    "static_std = np.mean(static_std_list)\n",
    "static_mean_str = \"{:.2f}\".format(static_mean)\n",
    "static_std_str = \"{:.2f}\".format(static_std)\n",
    "#print(static_std_list)\n",
    "bins=np.arange(np.min(static_std_list),np.max(static_std_list),0.1)\n",
    "plt.figure(figsize=(8, 8), dpi=100)\n",
    "ax = plt.subplot()\n",
    "ax.set_xlim(np.min(static_std_list), np.max(static_std_list))\n",
    "sns.kdeplot(static_std_list,static_mean_list,shade=True)\n",
    "plt.title(\"Sensor Base: mean=\"+static_mean_str+\"mg std=\"+static_std_str+\"mg\")\n",
    "plt.savefig(dataset_name+\"_static.png\")"
   ]
  },
  {
   "cell_type": "markdown",
   "metadata": {},
   "source": [
    "# 6. 矫正加速度列表"
   ]
  },
  {
   "cell_type": "code",
   "execution_count": 6,
   "metadata": {},
   "outputs": [],
   "source": [
    "acc_list = acc_list - static_mean # 将加速度列表矫正到0\n",
    "acc_avg = acc_avg - static_mean"
   ]
  },
  {
   "cell_type": "markdown",
   "metadata": {},
   "source": [
    "# 7. 以秒为单位计算std和avg，找出最大的以判断时域波形刻度范围"
   ]
  },
  {
   "cell_type": "code",
   "execution_count": 7,
   "metadata": {},
   "outputs": [
    {
     "name": "stderr",
     "output_type": "stream",
     "text": [
      "100%|██████████| 225/225 [00:00<00:00, 22480.19it/s]\n"
     ]
    },
    {
     "name": "stdout",
     "output_type": "stream",
     "text": [
      "13.564525155684148 [ 12.52746633 -12.23253367   4.91746633  23.51746633  -3.20253367\n",
      "   7.78746633  26.43746633  -5.92253367 -17.59253367 -36.85253367\n",
      " 376.13746633 -57.00253367 116.64746633 -98.64253367 162.69746633\n",
      " -74.00253367  71.94746633 -42.29253367  38.88746633 -39.27253367\n",
      "  31.02746633 -31.75253367  13.08746633 -19.63253367  29.14746633\n",
      " -15.98253367  15.80746633  -1.93253367  12.18746633  -8.99253367\n",
      "  -1.15253367  -8.27253367   0.49746633  -7.33253367]\n"
     ]
    },
    {
     "data": {
      "image/png": "[encoded data removed]",
      "text/plain": [
       "<Figure size 800x800 with 1 Axes>"
      ]
     },
     "metadata": {
      "needs_background": "light"
     },
     "output_type": "display_data"
    }
   ],
   "source": [
    "SECOND_WINDOW = 32# sample rate 32\n",
    "second_mean_list = []\n",
    "second_std_list  = []\n",
    "acc_mean_max = float(0)\n",
    "acc_std_max = float(0)\n",
    "#遍历加速度，寻找传感器安静的时间段，记录它的avg和std\n",
    "for k in tqdm(range(SECOND_WINDOW,acc_list.size,SECOND_WINDOW)):\n",
    "    acc_list_slice = acc_list[k-SECOND_WINDOW:k]\n",
    "    acc_mean_max = acc_mean_max if(acc_mean_max>np.mean(acc_list_slice)) else np.mean(acc_list_slice)\n",
    "    if acc_mean_max>10000:\n",
    "        print(acc_mean_max,k)\n",
    "    acc_std_max  = acc_std_max if(acc_std_max>np.std(acc_list_slice)) else np.std(acc_list_slice)\n",
    "    second_mean_list.append(np.mean(acc_list_slice))\n",
    "    second_std_list.append(np.std(acc_list_slice))\n",
    "print(np.mean(acc_list[5342:5376]),acc_list[5342:5376])\n",
    "acc_mean_str = \"{:.2f}\".format(acc_mean_max)\n",
    "acc_std_str = \"{:.2f}\".format(acc_std_max)\n",
    "# print(static_std_list)\n",
    "bins=np.arange(np.min(second_std_list),np.max(second_std_list),0.1)\n",
    "plt.figure(figsize=(8, 8), dpi=100)\n",
    "ax = plt.subplot()\n",
    "ax.set_xlim(np.min(second_std_list), np.max(second_std_list))\n",
    "sns.kdeplot(second_std_list,second_mean_list,shade=True)\n",
    "plt.title(\"max_mean=\"+acc_mean_str+\"mg max_std=\"+acc_std_str+\"mg\")\n",
    "plt.savefig(dataset_name+\"_dist_std_and_mean.png\")"
   ]
  },
  {
   "cell_type": "markdown",
   "metadata": {},
   "source": [
    "# 8. 以1024个点为单位遍历一次，找FFT的直流分量大小"
   ]
  },
  {
   "cell_type": "code",
   "execution_count": 8,
   "metadata": {},
   "outputs": [
    {
     "data": {
      "text/plain": [
       "0.6045913514913049"
      ]
     },
     "execution_count": 8,
     "metadata": {},
     "output_type": "execute_result"
    }
   ],
   "source": [
    "FFT = list()\n",
    "for i in range(0,len(acc_list)):\n",
    "#     if FFT_0<np.mean(acc_list[i:i+32]):\n",
    "    FFT.append(np.mean(acc_list[i:i+1024]))\n",
    "#     print(np.mean(acc_list[i:i+32]),i)\n",
    "np.mean(FFT)"
   ]
  },
  {
   "cell_type": "markdown",
   "metadata": {},
   "source": [
    "# 9. 开始画图"
   ]
  },
  {
   "cell_type": "code",
   "execution_count": 9,
   "metadata": {},
   "outputs": [],
   "source": [
    "fig= Figure(figsize=[25.6,14.4],dpi=100,facecolor=\"black\",edgecolor=\"#BEBEBE\")\n",
    "canvas = FigureCanvas(fig)\n",
    "ax_chart_32s = fig.add_axes([100/2560,1100/1440,1278/2560,300/1440])\n",
    "ax_chart_1s = fig.add_axes([1518/2560,1100/1440,372/2560,300/1440])\n",
    "\n",
    "ax_violin = fig.add_axes([1518/2560,750/1440,372/2560,300/1440])\n",
    "ax_violins = fig.add_axes([100/2560,750/1440,1378/2560,300/1440])\n",
    "\n",
    "ax_spectrogram_32s = fig.add_axes([100/2560,50/1440,1378/2560,300/1440])\n",
    "ax_spectrogram_4s = fig.add_axes([1518/2560,50/1440,372/2560,300/1440])\n",
    "\n",
    "ax_FFT_32s = fig.add_axes([100/2560,400/1440,1378/2560,300/1440])\n",
    "ax_FFT_4s = fig.add_axes([1518/2560,400/1440,372/2560,300/1440])\n",
    "\n",
    "ax_kde_1 = fig.add_axes([1940/2560,50/1440,560/2560,300/1440])\n",
    "# ax_kde_2 = fig.add_axes([2196/2560,50/1440,314/2560,314/1440])\n",
    "\n",
    "ax_video = fig.add_axes([1940/2560,400/1440,560/2560,994/1440])#[x,y,width,height] y in range of 456 and 496\n",
    "canvas.print_figure(\"123.png\")\n",
    "fig.savefig(\"sample.png\",facecolor=fig.get_facecolor(),edgecolor=fig.get_edgecolor())"
   ]
  },
  {
   "cell_type": "code",
   "execution_count": 10,
   "metadata": {},
   "outputs": [
    {
     "data": {
      "text/plain": [
       "512.0"
      ]
     },
     "execution_count": 10,
     "metadata": {},
     "output_type": "execute_result"
    }
   ],
   "source": [
    "CONST_ACC_MAX = math.pow(2, int(math.log(acc_mean_max + 4 * acc_std_max, 2)) + 1)\n",
    "CONST_ACC_MAX"
   ]
  },
  {
   "cell_type": "markdown",
   "metadata": {},
   "source": [
    "# 使用seaborn画violin"
   ]
  },
  {
   "cell_type": "code",
   "execution_count": 11,
   "metadata": {},
   "outputs": [],
   "source": [
    "\n",
    "def whiten(ax, title):\n",
    "    spine = ['bottom', 'top', 'right', 'left']\n",
    "    for tickline in ax.xaxis.get_ticklines():\n",
    "        tickline.set_color('white')\n",
    "    for ticklabel in ax.xaxis.get_ticklabels():\n",
    "        ticklabel.set_color('white')\n",
    "    for tickline in ax.yaxis.get_ticklines():\n",
    "        tickline.set_color('white')\n",
    "    for ticklabel in ax.yaxis.get_ticklabels():\n",
    "        ticklabel.set_color('white')\n",
    "    for orien in spine:\n",
    "        ax.spines[orien].set_color('black')\n",
    "    ax.set_facecolor(\"black\")  # grey\n",
    "    title.set_color(\"white\")\n",
    "    title.set_fontsize('large')\n",
    "\n",
    "\n",
    "def whiten_violin(result):\n",
    "    for key in result:\n",
    "        if key is not 'bodies':\n",
    "            result[key].set_color('')\n",
    "            \n",
    "def violins_color_decide(color_relative):\n",
    "    if color_relative<2:\n",
    "        return [1,0,0]#red\n",
    "    elif color_relative<4:\n",
    "        return [255/255,128/255,0/255]#orange\n",
    "    elif color_relative<8:\n",
    "        return [255/255,255/255,0/255]#yellow\n",
    "    elif color_relative<16:\n",
    "        return [255/255,255/255,128/255]#light yellow\n",
    "    elif color_relative<32:\n",
    "        return [1,1,1]#WHITE\n",
    "    elif color_relative<64:\n",
    "        return [128/255,255/255,255/255]#light blue\n",
    "    else:\n",
    "        return [0,255/255,255/255]#plain blue"
   ]
  },
  {
   "cell_type": "code",
   "execution_count": 12,
   "metadata": {},
   "outputs": [
    {
     "name": "stderr",
     "output_type": "stream",
     "text": [
      "100%|██████████| 128/128 [04:41<00:00,  2.20s/it]\n"
     ]
    }
   ],
   "source": [
    "#plt.savefig(\"sample.png\")\n",
    "CONST_ACC_MAX = 128\n",
    "# define the limits automatically\n",
    "#设置时域图和violin的y坐标的上下限\n",
    "CONST_ACC_MIN = -CONST_ACC_MAX\n",
    "CONST_CHART_WINDOW = 1024\n",
    "CONST_FFT_WINDOW = 1024\n",
    "CONST_VIOLIN_WINDOW = 32\n",
    "CONST_VIOLINS_WINDOW = 1024\n",
    "CONST_VIOLINS_DIV = 32\n",
    "CONST_SAMP_RATE = 32  # 采样率\n",
    "CONST_COLOR_STD_LMT = 128\n",
    "CONST_BLUE_RGB = [0, 0, 255]\n",
    "CONST_WHITE_RGB = [255, 255, 255]\n",
    "CONST_FFT_MIN = 0\n",
    "CONST_FFT_MAX = 1\n",
    "#可以从第几个帧开始绘制\n",
    "CONST_MIN_K = 7100\n",
    "CONST_MAX_K = 5000\n",
    "#帧图片文件夹\n",
    "CONST_FRAMES_DIR = \"dir_frames_toilet\"\n",
    "\n",
    "            \n",
    "for k in tqdm(range(CONST_MIN_K, acc_list.size)):  # start form 1024, shift 8 every time\n",
    "#     if k==CONST_MAX_K:\n",
    "#         break\n",
    "    ax_violin.set_ylim(CONST_ACC_MIN, CONST_ACC_MAX)\n",
    "    ax_violins.set_ylim(CONST_ACC_MIN, CONST_ACC_MAX)\n",
    "\n",
    "    # 绘制时域32s图\n",
    "    slice_start = k - CONST_FFT_WINDOW\n",
    "    slice_end = k\n",
    "    if slice_start < 0:\n",
    "        slice_start = 0\n",
    "    acc_slice = acc_list[slice_start:slice_end]\n",
    "    avg_slice = acc_avg[slice_start:slice_end]\n",
    "    std_slice = acc_std_list[slice_start:slice_end]\n",
    "    \n",
    "    if acc_slice.size<CONST_CHART_WINDOW:\n",
    "        acc_slice = np.lib.pad(acc_slice, (CONST_CHART_WINDOW - acc_slice.size, 0), 'constant', constant_values=(0, 0))\n",
    "        avg_slice = np.lib.pad(avg_slice, (CONST_CHART_WINDOW - avg_slice.size, 0), 'constant', constant_values=(0, 0))\n",
    "        std_slice = np.lib.pad(std_slice, (CONST_CHART_WINDOW - std_slice.size, 0), 'constant', constant_values=(0, 0))\n",
    "    \n",
    "    ax_chart_32s.plot(acc_slice, 'w',avg_slice,\"y\")  # '--w'\n",
    "    ax_chart_32s.set_ylabel(\"avg and realtime\",color = \"w\")\n",
    "    ax_chart_32s.set_ylim(CONST_ACC_MIN, CONST_ACC_MAX)\n",
    "    title = ax_chart_32s.set_title(\"Realtime chart,Time: \" + str(acc_time[k]) + \"  Reading: \" + \"{:.2f}\".format(acc_list[k]) + \"mg\")\n",
    "    whiten(ax_chart_32s, title)\n",
    "    \n",
    "    #32s时域图上加std，双坐标系\n",
    "    ax_chart_32s_std = ax_chart_32s.twinx()\n",
    "    ax_chart_32s_std.plot(std_slice,\"g\")\n",
    "    ax_chart_32s_std.set_ylabel(\"std\",color = \"w\")\n",
    "    ax_chart_32s_std.set_ylim(-acc_std_max,acc_std_max)\n",
    "    whiten(ax_chart_32s_std, title)\n",
    "\n",
    "    #绘制时域1s\n",
    "    acc_slice_1s = acc_slice[-32:]\n",
    "    ax_chart_1s.plot(acc_slice_1s,'w')\n",
    "    ax_chart_1s.set_ylim(CONST_ACC_MIN, CONST_ACC_MAX)\n",
    "    title = ax_chart_1s.set_title(\"Last second\")\n",
    "    whiten(ax_chart_1s, title)\n",
    "    \n",
    "    # 绘制FFT图\n",
    "    #########################################\n",
    "    fft_abs = abs(fft(acc_slice))\n",
    "    fft_norm = fft_abs / int(CONST_FFT_WINDOW)\n",
    "    fft_half = fft_norm[:int(CONST_FFT_WINDOW / 2)]\n",
    "    fft_DC_32s = fft_half[0]\n",
    "    fft_half[0]=0\n",
    "\n",
    "    ax_FFT_32s.bar(x=np.linspace(0, CONST_SAMP_RATE / 2, 513)[:-1],\n",
    "                   height=fft_half,width=0.032,bottom=0,align=\"center\",color=\"white\")\n",
    "\n",
    "    ax_FFT_32s.xaxis.set_major_locator(MaxNLocator(nbins=20, prune='lower'))\n",
    "    title = ax_FFT_32s.set_title(\"FFT chart:0 - 16Hz, DC:\"+\"{:.2f}\".format(fft_DC_32s)+\"AC max:\"+\"{:.2f}\".format(np.max(fft_half)))\n",
    "    title = ax_FFT_32s.set_title(\"FFT chart:0 - 16Hz\")\n",
    "    whiten(ax_FFT_32s, title)\n",
    "    ax_FFT_32s.set_ylim(CONST_FFT_MIN, CONST_FFT_MAX)\n",
    "    ax_FFT_32s.set_xlim(0, 16)  # 0-4hz\n",
    "    \n",
    "    #4s fft\n",
    "    fft_abs = abs(fft(acc_slice[-128:]))\n",
    "    fft_norm = fft_abs / int(128)\n",
    "    fft_half = fft_norm[:64]\n",
    "    fft_DC_4s = fft_half[0]\n",
    "    fft_half[0]=0\n",
    "    \n",
    "    ax_FFT_4s.bar(x=np.linspace(0, CONST_SAMP_RATE / 2, 65)[:-1], \n",
    "                   height=fft_half,width=0.15,bottom=0,align=\"center\",color=\"white\")\n",
    "    ax_FFT_4s.xaxis.set_major_locator(MaxNLocator(nbins=4, prune='lower'))\n",
    "    title = ax_FFT_4s.set_title(\"FFT chart:0 - 16Hz, DC:\"+\"{:.2f}\".format(fft_DC_4s)+\"AC max:\"+\"{:.2f}\".format(np.max(fft_half)))\n",
    "    whiten(ax_FFT_4s, title)\n",
    "    ax_FFT_4s.set_ylim(CONST_FFT_MIN, CONST_FFT_MAX)\n",
    "    ax_FFT_4s.set_xlim(0, 16)  # 0-16hz\n",
    "\n",
    "    # 绘制violin图\n",
    "    ##########################################\n",
    "    slice_start = k - CONST_VIOLIN_WINDOW\n",
    "    slice_end = k\n",
    "    if slice_start < 0:\n",
    "        slice_start = 0\n",
    "    acc_slice = acc_list[slice_start:slice_end]\n",
    "    if acc_slice.size<CONST_CHART_WINDOW:\n",
    "        acc_slice = np.lib.pad(acc_slice, (CONST_VIOLIN_WINDOW - acc_slice.size, 0), 'constant', constant_values=(0, 0))\n",
    "    \n",
    "    acc_slice_dataset = pd.DataFrame(acc_slice)\n",
    "    violin_mean = acc_slice_dataset[0].mean()\n",
    "    violin_std = acc_slice_dataset[0].std()\n",
    "    violin_mean_str = \"{:.5f}\".format(violin_mean)\n",
    "    violin_std_str = \"{:.5f}\".format(violin_std)\n",
    "\n",
    "    face_color = [(CONST_WHITE_RGB[i] - (CONST_WHITE_RGB[i] - CONST_BLUE_RGB[i]) * abs(violin_std / CONST_COLOR_STD_LMT)) / 255 for i in range(3)]\n",
    "    for color in face_color:\n",
    "        if color<0:\n",
    "            color=0\n",
    "\n",
    "    ###########seaborn violin#############\n",
    "    violinplot_ax = sns.violinplot(x=acc_slice, color=face_color, ax=ax_violin, linewidth=0,orient=\"v\")\n",
    "    ax.grid(False)\n",
    "    \n",
    "    title = ax_violin.set_title(\"Realtime violin. Mean: \" + violin_mean_str + \"  Std: \" + violin_std_str)\n",
    "    ax_violin.yaxis.set_major_locator(MaxNLocator(nbins=16, prune='lower'))\n",
    "    whiten(ax_violin, title)\n",
    "\n",
    "    # 绘制violins图\n",
    "    ################################\n",
    "    slice_start = k - CONST_VIOLINS_WINDOW\n",
    "    slice_end = k\n",
    "    if slice_start < 0:\n",
    "        slice_start = 0\n",
    "    acc_slice = acc_list[slice_start:slice_end]\n",
    "    if acc_slice.size<CONST_CHART_WINDOW:\n",
    "        acc_slice = np.lib.pad(acc_slice, (CONST_VIOLINS_WINDOW - acc_slice.size, 0), 'constant', constant_values=(0, 0))\n",
    "\n",
    "    violins_dataset = pd.DataFrame([acc_slice[int(t - CONST_VIOLINS_DIV):int(t)] for t in list(np.linspace(0, 1024, CONST_VIOLINS_DIV + 1)[1:])])\n",
    "    \n",
    "    color_list = []\n",
    "    for row in range(CONST_VIOLINS_DIV):\n",
    "        violins_color = abs(violins_dataset.loc[row, :].std())\n",
    "        violins_color_relative = violins_color / CONST_COLOR_STD_LMT\n",
    "        if violins_color_relative>1:\n",
    "            violins_color_relative=1\n",
    "        color_list.append(violins_color_decide(violins_color_relative*128))\n",
    "        # rgba in float 0-1 form\n",
    "        \n",
    "    violins_result = ax_violins.violinplot(dataset=violins_dataset)\n",
    "    ax_violins.yaxis.set_major_locator(MaxNLocator(nbins=(CONST_ACC_MAX / 4) + 1, prune='lower'))\n",
    "    \n",
    "    for pc in range(len(violins_result['bodies'])):\n",
    "        violins_result['bodies'][pc].set_facecolor(color_list[pc])\n",
    "        violins_result['bodies'][pc].set_edgecolor(color_list[pc])\n",
    "        violins_result['bodies'][pc].set_alpha(1.0)\n",
    "    \n",
    "    title = ax_violins.set_title(\"History violins\")\n",
    "    ax_violins.yaxis.set_major_locator(MaxNLocator(nbins=16, prune='lower'))\n",
    "    whiten(ax_violins, title)\n",
    "    whiten_violin(violins_result)\n",
    "    \n",
    "    #draw specgram\n",
    "    ####################################\n",
    "    #32s\n",
    "    slice_start = k - CONST_FFT_WINDOW -128\n",
    "    slice_end = k\n",
    "    if slice_start < 0:\n",
    "        slice_start = 0\n",
    "    acc_slice = acc_list[slice_start:slice_end]\n",
    "    if acc_slice.size<CONST_CHART_WINDOW:\n",
    "        acc_slice = np.lib.pad(acc_slice, (CONST_FFT_WINDOW - acc_slice.size, 0), 'constant', constant_values=(0, 0))\n",
    "\n",
    "    spectrum_32s,freqs_32s,ts_32s,fi_32s=ax_spectrogram_32s.specgram(x = acc_slice,\n",
    "                mode='magnitude',\n",
    "                scale = \"linear\",\n",
    "                NFFT=128,\n",
    "                Fs=32, Fc=None,\n",
    "                window=np.hanning(M = 128), \n",
    "                noverlap=127,\n",
    "                sides=\"onesided\",\n",
    "                xextent=[0,32],\n",
    "                vmax=CONST_FFT_MAX,\n",
    "                vmin=0,\n",
    "                cmap=plt.cm.gray\n",
    "                )\n",
    "    \n",
    "    title = ax_spectrogram_32s.set_title(\"32s spectrogram\")\n",
    "    whiten(ax_spectrogram_32s,title)\n",
    "    #4s\n",
    "    spectrum_4s,freqs_4s,ts_4s,fi_4s=ax_spectrogram_4s.specgram(x = acc_slice[-256:],\n",
    "            mode='magnitude',\n",
    "            scale = \"linear\",#do not use db, or the graph would have a bunch of drak part                             \n",
    "            NFFT=128,\n",
    "            Fs=32, Fc=None,\n",
    "            window=np.hanning(M = 128), \n",
    "            noverlap=127,\n",
    "            sides=\"onesided\",\n",
    "            xextent=[0,4],\n",
    "            vmax=CONST_FFT_MAX,\n",
    "            vmin=0,\n",
    "            cmap=plt.cm.gray\n",
    "            )\n",
    "#     mode : {'default', 'psd', 'magnitude', 'angle', 'phase'}\n",
    "#     What sort of spectrum to use. Default is 'psd', which takes the power spectral density. PSD is the square of magnitude\n",
    "#     'magnitude' returns the magnitude spectrum. 'angle' returns the phase spectrum without unwrapping. \n",
    "#     'phase' returns the phase spectrum with unwrapping.\n",
    "\n",
    "#     scale : {'default', 'linear', 'dB'}\n",
    "#     The scaling of the values in the spec. 'linear' is no scaling. \n",
    "#     'dB' returns the values in dB scale. When mode is 'psd', this is dB power (10 * log10).\n",
    "#     Otherwise this is dB amplitude (20 * log10).\n",
    "#     'default' is 'dB' if mode is 'psd' or 'magnitude' and 'linear' otherwise. This must be 'linear' if mode is 'angle' or 'phase'.\n",
    "\n",
    "\n",
    "    title = ax_spectrogram_4s.set_title(\"4s spectrogram\")\n",
    "    whiten(ax_spectrogram_4s,title)\n",
    "    \n",
    "    #draw pca result\n",
    "    ##################################################\n",
    "    ax_kde_1.set_xlim(np.min(acc_pca0_list),np.max(acc_pca0_list))\n",
    "    ax_kde_1.set_ylim(np.min(acc_pca1_list),np.max(acc_pca1_list))\n",
    "    sns.kdeplot(acc_pca0_list[k-128:k],acc_pca1_list[k-128:k],shade=False,ax = ax_kde_1,cmap=plt.cm.gray)\n",
    "    \n",
    "    title = ax_kde_1.set_title(\"PCA KDE\")\n",
    "    whiten(ax_kde_1,title)\n",
    "    \n",
    "    # 调整 video框\n",
    "    ax_video.set_facecolor(\"black\")\n",
    "    spine = ['bottom', 'top', 'right', 'left']\n",
    "    for orien in spine:\n",
    "        ax_video.spines[orien].set_color('white')\n",
    "    ax_video.axis(option=False)\n",
    "\n",
    "    # save figs\n",
    "    fig.savefig(\"dir_frames_printer/\" + str(10000000000 + acc_ms[k]) + '.png', facecolor=fig.get_facecolor(), edgecolor='none')\n",
    "    ax_chart_32s.cla()\n",
    "    ax_chart_32s_std.cla()\n",
    "    ax_chart_1s.cla()\n",
    "    ax_FFT_32s.cla()\n",
    "    ax_FFT_4s.cla()\n",
    "    ax_violin.cla()\n",
    "    ax_violins.cla()\n",
    "    ax_spectrogram_32s.cla()\n",
    "    ax_spectrogram_4s.cla()\n",
    "    del fi_32s #delete the fig instance, otherwise would slow down the process due to memory depletion\n",
    "    gc.collect()"
   ]
  },
  {
   "cell_type": "code",
   "execution_count": null,
   "metadata": {},
   "outputs": [],
   "source": [
    " "
   ]
  },
  {
   "cell_type": "code",
   "execution_count": 4,
   "metadata": {},
   "outputs": [
    {
     "data": {
      "text/plain": [
       "[<matplotlib.lines.Line2D at 0x16007f5f248>]"
      ]
     },
     "execution_count": 4,
     "metadata": {},
     "output_type": "execute_result"
    },
    {
     "data": {
      "image/png": "[encoded data removed]",
      "text/plain": [
       "<Figure size 432x288 with 1 Axes>"
      ]
     },
     "metadata": {
      "needs_background": "light"
     },
     "output_type": "display_data"
    }
   ],
   "source": [
    "plt.plot(np.arange(2000, 2010), range(10))"
   ]
  },
  {
   "cell_type": "code",
   "execution_count": null,
   "metadata": {},
   "outputs": [],
   "source": []
  }
 ],
 "metadata": {
  "kernelspec": {
   "display_name": "Python 3",
   "language": "python",
   "name": "python3"
  },
  "language_info": {
   "codemirror_mode": {
    "name": "ipython",
    "version": 3
   },
   "file_extension": ".py",
   "mimetype": "text/x-python",
   "name": "python",
   "nbconvert_exporter": "python",
   "pygments_lexer": "ipython3",
   "version": "3.7.4"
  }
 },
 "nbformat": 4,
 "nbformat_minor": 2
}
